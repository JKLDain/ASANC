{
 "cells": [
  {
   "cell_type": "code",
   "execution_count": 1,
   "id": "a004bccc",
   "metadata": {},
   "outputs": [],
   "source": [
    "from scipy import signal\n",
    "import numpy as np\n",
    "import matplotlib.pyplot as plt\n",
    "rng = np.random.default_rng()"
   ]
  },
  {
   "cell_type": "code",
   "execution_count": 2,
   "id": "7bc13f0b",
   "metadata": {},
   "outputs": [
    {
     "data": {
      "text/plain": [
       "[<matplotlib.lines.Line2D at 0x22202b8b4c0>]"
      ]
     },
     "execution_count": 2,
     "metadata": {},
     "output_type": "execute_result"
    },
    {
     "data": {
      "image/png": "[encoded data removed]",
      "text/plain": [
       "<Figure size 432x288 with 1 Axes>"
      ]
     },
     "metadata": {
      "needs_background": "light"
     },
     "output_type": "display_data"
    }
   ],
   "source": [
    "import scipy.io.wavfile\n",
    "from scipy.io import wavfile\n",
    "import librosa\n",
    "import os.path\n",
    "\n",
    "path=\"C:\\\\Users\\\\안동진\\\\Downloads\"\n",
    "fname=\"\\\\docs_feature_extraction_example.wav\"\n",
    "\n",
    "data, signal = wavfile.read(path+fname)\n",
    "\n",
    "sampling_rate = 30.0\n",
    "\n",
    "time = np.arange(0, 10, 1/sampling_rate)\n",
    "\n",
    "data = np.sin(2*np.pi*6*time) + np.random.randn(len(time))\n",
    "\n",
    "fourier_transform = np.fft.rfft(data)\n",
    "\n",
    "abs_fourier_transform = np.abs(fourier_transform)\n",
    "\n",
    "power_spectrum = np.square(abs_fourier_transform)\n",
    "\n",
    "frequency = np.linspace(0, sampling_rate/2, len(power_spectrum))\n",
    "\n",
    "plt.plot(frequency, power_spectrum)"
   ]
  },
  {
   "cell_type": "code",
   "execution_count": 15,
   "id": "117a62ea",
   "metadata": {},
   "outputs": [
    {
     "ename": "TypeError",
     "evalue": "'int' object is not iterable",
     "output_type": "error",
     "traceback": [
      "\u001b[1;31m---------------------------------------------------------------------------\u001b[0m",
      "\u001b[1;31mTypeError\u001b[0m                                 Traceback (most recent call last)",
      "\u001b[1;32m<ipython-input-15-5ceff85eb73e>\u001b[0m in \u001b[0;36m<module>\u001b[1;34m\u001b[0m\n\u001b[0;32m     16\u001b[0m \u001b[1;33m\u001b[0m\u001b[0m\n\u001b[0;32m     17\u001b[0m \u001b[1;31m# BPF setting ( 나머지 주파수는 자르고 40 ~ 100 hz 만 추출하겠다.)\u001b[0m\u001b[1;33m\u001b[0m\u001b[1;33m\u001b[0m\u001b[1;33m\u001b[0m\u001b[0m\n\u001b[1;32m---> 18\u001b[1;33m \u001b[1;32mfor\u001b[0m \u001b[0mi\u001b[0m \u001b[1;32min\u001b[0m \u001b[0mlen\u001b[0m\u001b[1;33m(\u001b[0m\u001b[0mfrequency\u001b[0m\u001b[1;33m)\u001b[0m\u001b[1;33m:\u001b[0m\u001b[1;33m\u001b[0m\u001b[1;33m\u001b[0m\u001b[0m\n\u001b[0m\u001b[0;32m     19\u001b[0m     \u001b[0mhighcut\u001b[0m\u001b[1;33m[\u001b[0m\u001b[0mi\u001b[0m\u001b[1;33m]\u001b[0m \u001b[1;33m=\u001b[0m \u001b[1;36m1\u001b[0m\u001b[1;33m/\u001b[0m\u001b[0mfrequency\u001b[0m\u001b[1;33m[\u001b[0m\u001b[0mi\u001b[0m\u001b[1;33m]\u001b[0m\u001b[1;33m\u001b[0m\u001b[1;33m\u001b[0m\u001b[0m\n\u001b[0;32m     20\u001b[0m \u001b[1;33m\u001b[0m\u001b[0m\n",
      "\u001b[1;31mTypeError\u001b[0m: 'int' object is not iterable"
     ]
    }
   ],
   "source": [
    "from scipy.signal import butter, lfilter\n",
    "\n",
    "def butter_bandpass(lowcut, highcut, fs, order=5):\n",
    "    nyq = 0.5 * fs\n",
    "    low = lowcut / nyq\n",
    "    high = highcut / nyq\n",
    "    b, a = butter(order, [low, high], btype='band')\n",
    "    return b, a\n",
    "\n",
    "\n",
    "def butter_bandpass_filter(data, lowcut, highcut, fs, order=5):\n",
    "    b, a = butter_bandpass(lowcut, highcut, fs, order=order)\n",
    "    y = lfilter(b, a, data)\n",
    "    return y\n",
    "\n",
    "\n",
    "# BPF setting ( 나머지 주파수는 자르고 40 ~ 100 hz 만 추출하겠다.)\n",
    "for i in len(frequency):\n",
    "    highcut[i] = 1/frequency[i]\n",
    "    \n",
    "# BPF\n",
    "for i in len(frequency):\n",
    "    yy[i] = butter_bandpass_filter(signal, highcut[i], Fs, order=5)\n",
    "\n",
    "# 1. 원 신호 Plot\n",
    "plt.plot(t, signal, 'y', label='origin')\n",
    "\n",
    "# 2. 필터 적용된 Plot\n",
    "for i in len(frequency):\n",
    "    plt.plot(t, yy[i], 'b', label='filtered data')\n",
    "plt.legend()\n",
    "plt.show() \n",
    "    \n",
    "# 3. 필터 적용된 FFT Plot\n",
    "for i in len(frequency):\n",
    "    yf = np.fft.fft(yy[i]) / N\n",
    "\n",
    "yf= yf[range(int(N/2))]\n",
    "\n",
    "\n",
    "plt.title(\"BPF\")\n",
    "plt.plot(freq, abs(yf), 'k')\n",
    "plt.xlim(0, Fs / 20)\n",
    "plt.show()"
   ]
  },
  {
   "cell_type": "code",
   "execution_count": null,
   "id": "c81d2fd7",
   "metadata": {},
   "outputs": [],
   "source": []
  }
 ],
 "metadata": {
  "kernelspec": {
   "display_name": "Python 3",
   "language": "python",
   "name": "python3"
  },
  "language_info": {
   "codemirror_mode": {
    "name": "ipython",
    "version": 3
   },
   "file_extension": ".py",
   "mimetype": "text/x-python",
   "name": "python",
   "nbconvert_exporter": "python",
   "pygments_lexer": "ipython3",
   "version": "3.8.8"
  }
 },
 "nbformat": 4,
 "nbformat_minor": 5
}
