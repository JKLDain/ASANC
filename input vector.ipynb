{
 "cells": [
  {
   "cell_type": "code",
   "execution_count": 2,
   "id": "1f1d12f6",
   "metadata": {},
   "outputs": [
    {
     "ename": "ModuleNotFoundError",
     "evalue": "No module named '음향'",
     "output_type": "error",
     "traceback": [
      "\u001b[1;31m---------------------------------------------------------------------------\u001b[0m",
      "\u001b[1;31mModuleNotFoundError\u001b[0m                       Traceback (most recent call last)",
      "\u001b[1;32m<ipython-input-2-12cca0292dbc>\u001b[0m in \u001b[0;36m<module>\u001b[1;34m\u001b[0m\n\u001b[0;32m      1\u001b[0m \u001b[1;32mimport\u001b[0m \u001b[0mnumpy\u001b[0m \u001b[1;32mas\u001b[0m \u001b[0mnp\u001b[0m\u001b[1;33m\u001b[0m\u001b[1;33m\u001b[0m\u001b[0m\n\u001b[1;32m----> 2\u001b[1;33m \u001b[1;32mfrom\u001b[0m \u001b[0m음향\u001b[0m \u001b[1;32mimport\u001b[0m \u001b[0mmfcc\u001b[0m\u001b[1;33m\u001b[0m\u001b[1;33m\u001b[0m\u001b[0m\n\u001b[0m\u001b[0;32m      3\u001b[0m \u001b[1;32mimport\u001b[0m \u001b[0mscipy\u001b[0m\u001b[1;33m.\u001b[0m\u001b[0mio\u001b[0m\u001b[1;33m.\u001b[0m\u001b[0mwavfile\u001b[0m \u001b[1;32mas\u001b[0m \u001b[0mwav\u001b[0m\u001b[1;33m\u001b[0m\u001b[1;33m\u001b[0m\u001b[0m\n\u001b[0;32m      4\u001b[0m \u001b[1;32mimport\u001b[0m \u001b[0mmatplotlib\u001b[0m\u001b[1;33m.\u001b[0m\u001b[0mpyplot\u001b[0m \u001b[1;32mas\u001b[0m \u001b[0mplt\u001b[0m\u001b[1;33m\u001b[0m\u001b[1;33m\u001b[0m\u001b[0m\n\u001b[0;32m      5\u001b[0m \u001b[1;32mimport\u001b[0m \u001b[0mos\u001b[0m\u001b[1;33m\u001b[0m\u001b[1;33m\u001b[0m\u001b[0m\n",
      "\u001b[1;31mModuleNotFoundError\u001b[0m: No module named '음향'"
     ]
    }
   ],
   "source": [
    "import numpy as np\n",
    "from 음향 import mfcc \n",
    "import scipy.io.wavfile as wav\n",
    "import matplotlib.pyplot as plt\n",
    "import os\n",
    "import librosa\n",
    "import soundfile as sf # 리샘플링한 음악을 저장\n",
    "import pandas as pd\n",
    "import csv\n",
    "# from tqdm import tqdm"
   ]
  },
  {
   "cell_type": "code",
   "execution_count": null,
   "id": "a9ec2fe8",
   "metadata": {},
   "outputs": [],
   "source": [
    "print()"
   ]
  },
  {
   "cell_type": "code",
   "execution_count": null,
   "id": "3bcb5621",
   "metadata": {},
   "outputs": [],
   "source": [
    "# 사용한 음향의 샘플링을 16000hz로 변환\n",
    "\n",
    "def resampling(file,origin_sr,resample_sr):\n",
    "#     resample_sr = 16000\n",
    "#     origin_sr = 44100\n",
    "#     resample_sr= resample_sr\n",
    "#     origin_sr = origin_sr\n",
    "    \n",
    "    # 리샘플링을 해줘야하니 input으로 넣어줄 sound파일이 있는 경로 지정\n",
    "    os.chdir()\n",
    "\n",
    "    # file 예시: 00063640.wav ,  (type: 'str')\n",
    "    y, sr = librosa.load(file, sr=origin_sr)\n",
    "    resample = librosa.resample(y, sr, resample_sr)\n",
    "#     print(\"original wav sr: {}, original wav shape: {}, resample wav sr: {}, resmaple shape: {}\".format(origin_sr, y.shape, resample_sr, resample.shape))\n",
    "    # 리샘플링이 된 wav 로 파일 저장 경로 설정\n",
    "    sf.write('../test_music/' + file, resample, resample_sr, format='WAV', endian='LITTLE', subtype='PCM_16')\n",
    "\n",
    "#모든 파일을 리샘플링(44100hz->16000hz) 해주었다면 더이상 실행시키지 않아도 됨\n",
    "# 추후 새로 입력이 들어오는 데이터가 있다면 해당 파일의 샘플링을 알아야하고,\n",
    "# 16000이 아니라면 샘플링을 해주어야 함"
   ]
  },
  {
   "cell_type": "code",
   "execution_count": null,
   "id": "1d611998",
   "metadata": {},
   "outputs": [],
   "source": [
    "def feature_save(file):\n",
    "     # 리샘플링이 된 wav 파일의 경로를 가져옴\n",
    "    os.chdir(\"../test_music/\")\n",
    "    \n",
    "    # wav파일에서 MFCC 특성 추출\n",
    "    (rate,sig) = wav.read(file)\n",
    "    \n",
    "    mfcc_feat = mfcc(sig,rate)\n",
    "    feat_mean = np.mean(mfcc_feat, axis = 0)\n",
    "    feat_cov = np.cov(mfcc_feat,rowvar=0)\n",
    "    feat_cov_up = np.triu(feat_cov, k=0)# 상삼각행렬(Upper triangular matrix)을 반환\n",
    "    feat_flat = feat_cov_up.flatten()\n",
    "    index = np.arange(len(feat_flat))[feat_flat==0]\n",
    "    feat_cov = list(np.delete(feat_flat, index))\n",
    "    \n",
    "    feat.append(file) # wav파일 이름 저장\n",
    "    feat.extend(feat_mean)#<class 'numpy.ndarray'>   # 이 값은 들어가짐. extend()라 그런듯\n",
    "    feat.extend(feat_cov) # <class 'list'>\n",
    "    \n",
    "    # 'test.csv' 파일은 9000개 가량의 음향을 MFCC 특성추출해서 저장한 csv파일임\n",
    "    # 생성되어있는 csv파일의 마지막에 MFCC로 특성추출해준 새로운 음향 벡터를 기록\n",
    "    with open('../test.csv', 'a', newline='\\n') as f:\n",
    "        writer = csv.writer(f)\n",
    "        writer.writerow(feat)"
   ]
  },
  {
   "cell_type": "code",
   "execution_count": null,
   "id": "7b34f572",
   "metadata": {},
   "outputs": [],
   "source": [
    "def music_search(file):\n",
    "    # csv 읽기\n",
    "    music_df=pd.read_csv('../test.csv',encoding=\"utf-8\")"
   ]
  },
  {
   "cell_type": "code",
   "execution_count": null,
   "id": "cb1ea881",
   "metadata": {},
   "outputs": [],
   "source": [
    "# input음향 -> 샘플링 조절 -> 특성벡터 추출 "
   ]
  }
 ],
 "metadata": {
  "kernelspec": {
   "display_name": "Python 3",
   "language": "python",
   "name": "python3"
  },
  "language_info": {
   "codemirror_mode": {
    "name": "ipython",
    "version": 3
   },
   "file_extension": ".py",
   "mimetype": "text/x-python",
   "name": "python",
   "nbconvert_exporter": "python",
   "pygments_lexer": "ipython3",
   "version": "3.8.8"
  }
 },
 "nbformat": 4,
 "nbformat_minor": 5
}
